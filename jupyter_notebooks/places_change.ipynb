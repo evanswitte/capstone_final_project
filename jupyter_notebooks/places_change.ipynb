{
 "cells": [
  {
   "cell_type": "code",
   "execution_count": 1,
   "metadata": {},
   "outputs": [],
   "source": [
    "import pandas as pd"
   ]
  },
  {
   "cell_type": "code",
   "execution_count": 2,
   "metadata": {},
   "outputs": [],
   "source": [
    "df = pd.read_csv('/Users/evo/Documents/neue_fische/capstone_final/csv/Places.csv')"
   ]
  },
  {
   "cell_type": "code",
   "execution_count": 4,
   "metadata": {},
   "outputs": [],
   "source": [
    "# Change the words ue and oe to ü and ö (Umlaute)\n",
    "df[\"city\"] = df[\"city\"].str.replace('ö','oe')"
   ]
  },
  {
   "cell_type": "code",
   "execution_count": 5,
   "metadata": {},
   "outputs": [
    {
     "data": {
      "text/plain": [
       "array(['berlin', 'hamburg', 'koeln', 'frankfurt am main', 'muenchen'],\n",
       "      dtype=object)"
      ]
     },
     "execution_count": 5,
     "metadata": {},
     "output_type": "execute_result"
    }
   ],
   "source": [
    "df[\"city\"].unique()"
   ]
  },
  {
   "cell_type": "code",
   "execution_count": null,
   "metadata": {},
   "outputs": [],
   "source": [
    "df.to_csv('/Users/evo/Documents/neue_fische/capstone_final/csv/Places_change.csv')"
   ]
  }
 ],
 "metadata": {
  "interpreter": {
   "hash": "75ee6610f9b858d781dbc8a45bc52cf67d2eea16e6b5c2f9d5a1a04fc42e5532"
  },
  "kernelspec": {
   "display_name": "Python 3.9.7 ('sql_api_project')",
   "language": "python",
   "name": "python3"
  },
  "language_info": {
   "codemirror_mode": {
    "name": "ipython",
    "version": 3
   },
   "file_extension": ".py",
   "mimetype": "text/x-python",
   "name": "python",
   "nbconvert_exporter": "python",
   "pygments_lexer": "ipython3",
   "version": "3.9.7"
  },
  "orig_nbformat": 4
 },
 "nbformat": 4,
 "nbformat_minor": 2
}
